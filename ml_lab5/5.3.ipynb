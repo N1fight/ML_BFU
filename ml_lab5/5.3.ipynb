{
 "cells": [
  {
   "cell_type": "code",
   "execution_count": 20,
   "id": "75c63f7c-21b7-403a-8c44-0aa3fbda13e2",
   "metadata": {
    "tags": []
   },
   "outputs": [],
   "source": [
    "import pandas as pd\n",
    "import numpy as np\n",
    "import matplotlib.pyplot as plt\n",
    "from sklearn.ensemble import RandomForestClassifier\n",
    "from sklearn.model_selection import train_test_split\n",
    "from sklearn.metrics import accuracy_score\n",
    "import time\n",
    "from xgboost import XGBClassifier\n",
    "from sklearn.model_selection import RandomizedSearchCV\n",
    "from scipy.stats import randint\n",
    "from hyperopt import hp, fmin, tpe, Trials, STATUS_OK\n",
    "import warnings\n"
   ]
  },
  {
   "cell_type": "code",
   "execution_count": 42,
   "id": "ed9bcd92-4cea-42c5-9b07-0af27077498c",
   "metadata": {
    "tags": []
   },
   "outputs": [],
   "source": [
    "#Предупреждения\n",
    "warnings.filterwarnings('ignore', category=UserWarning)\n",
    "warnings.filterwarnings('ignore', category=FutureWarning)"
   ]
  },
  {
   "cell_type": "code",
   "execution_count": 21,
   "id": "1cbbb42f-1020-4cd6-a36a-3428f3e2b7c3",
   "metadata": {
    "tags": []
   },
   "outputs": [],
   "source": [
    "# Загрузка данных\n",
    "data = pd.read_csv('diabetes.csv')\n",
    "X = data.drop('Outcome', axis=1)\n",
    "y = data['Outcome']"
   ]
  },
  {
   "cell_type": "code",
   "execution_count": 32,
   "id": "29c4a71e-7215-4f68-a0e3-ea700d3d9ca5",
   "metadata": {
    "tags": []
   },
   "outputs": [],
   "source": [
    "# Разделение данных на обучающую и тестовую выборки\n",
    "X_train, X_test, y_train, y_test = train_test_split(X, y, test_size=0.3, random_state=42)"
   ]
  },
  {
   "cell_type": "markdown",
   "id": "73647c70-1a03-4522-95c7-81180ee8b216",
   "metadata": {},
   "source": [
    "1. Random Search с использованием Scikit-Learn"
   ]
  },
  {
   "cell_type": "code",
   "execution_count": 40,
   "id": "71315089-04e5-4566-be57-5fefa65165cc",
   "metadata": {
    "tags": []
   },
   "outputs": [
    {
     "name": "stdout",
     "output_type": "stream",
     "text": [
      "Random Search результаты:\n",
      "Лучшие параметры: {'bootstrap': True, 'max_depth': 8, 'max_features': 5, 'min_samples_leaf': 2, 'min_samples_split': 9, 'n_estimators': 393}\n",
      "Лучшая точность: 0.7820\n",
      "Время выполнения: 14.10 сек\n"
     ]
    }
   ],
   "source": [
    "# Определение пространства параметров для случайного поиска\n",
    "param_dist = {\n",
    "    'n_estimators': randint(100, 400),\n",
    "    'max_depth': randint(3, 10),\n",
    "    'max_features': randint(1, X.shape[1]+1),\n",
    "    'min_samples_split': randint(2, 10),\n",
    "    'min_samples_leaf': randint(1, 5),\n",
    "    'bootstrap': [True, False]\n",
    "}\n",
    "\n",
    "# Создание модели\n",
    "rf = RandomForestClassifier(random_state=42)\n",
    "\n",
    "# Настройка Random Search\n",
    "random_search = RandomizedSearchCV(\n",
    "    rf,\n",
    "    param_distributions=param_dist,\n",
    "    n_iter=50,\n",
    "    cv=5,\n",
    "    scoring='accuracy',\n",
    "    n_jobs=-1,\n",
    "    random_state=42,\n",
    "    error_score='raise'\n",
    ")\n",
    "\n",
    "# Запуск поиска и замер времени\n",
    "start_time = time.time()\n",
    "random_search.fit(X_train, y_train)\n",
    "random_search_time = time.time() - start_time\n",
    "\n",
    "# Лучшие параметры и точность\n",
    "best_params_random = random_search.best_params_\n",
    "best_score_random = random_search.best_score_\n",
    "\n",
    "print(\"Random Search результаты:\")\n",
    "print(f\"Лучшие параметры: {best_params_random}\")\n",
    "print(f\"Лучшая точность: {best_score_random:.4f}\")\n",
    "print(f\"Время выполнения: {random_search_time:.2f} сек\")"
   ]
  },
  {
   "cell_type": "markdown",
   "id": "ed846738-0b05-48b9-92e9-0de3efefd398",
   "metadata": {},
   "source": [
    "2. Оптимизация с использованием Hyperopt (TPE алгоритм)"
   ]
  },
  {
   "cell_type": "code",
   "execution_count": 43,
   "id": "a48ae566-4015-42c5-bd04-1f8474b1ff62",
   "metadata": {
    "tags": []
   },
   "outputs": [
    {
     "name": "stdout",
     "output_type": "stream",
     "text": [
      "100%|██████████| 50/50 [00:20<00:00,  2.46trial/s, best loss: -0.7705627705627706]\n",
      "\n",
      "Hyperopt (TPE) результаты:\n",
      "Лучшие параметры: {'n_estimators': 300, 'max_depth': 4, 'max_features': 2, 'min_samples_split': 6, 'min_samples_leaf': 3, 'bootstrap': 1}\n",
      "Лучшая точность: 0.7662\n",
      "Время выполнения: 20.35 сек\n"
     ]
    }
   ],
   "source": [
    "# Определение пространства параметров для Hyperopt\n",
    "space = {\n",
    "    'n_estimators': hp.quniform('n_estimators', 100, 400, 10),\n",
    "    'max_depth': hp.quniform('max_depth', 3, 10, 1),\n",
    "    'max_features': hp.quniform('max_features', 1, X.shape[1], 1),\n",
    "    'min_samples_split': hp.quniform('min_samples_split', 2, 9, 1),\n",
    "    'min_samples_leaf': hp.quniform('min_samples_leaf', 1, 4, 1),\n",
    "    'bootstrap': hp.choice('bootstrap', [True, False])\n",
    "}\n",
    "\n",
    "# Функция для оптимизации\n",
    "def objective(params):\n",
    "    # Преобразуем параметры в нужные типы\n",
    "    params = {\n",
    "        'n_estimators': int(params['n_estimators']),\n",
    "        'max_depth': int(params['max_depth']),\n",
    "        'max_features': int(params['max_features']),\n",
    "        'min_samples_split': int(params['min_samples_split']),\n",
    "        'min_samples_leaf': int(params['min_samples_leaf']),\n",
    "        'bootstrap': bool(params['bootstrap']),\n",
    "        'random_state': 42\n",
    "    }\n",
    "    \n",
    "    model = RandomForestClassifier(**params)\n",
    "    model.fit(X_train, y_train)\n",
    "    y_pred = model.predict(X_test)\n",
    "    accuracy = accuracy_score(y_test, y_pred)\n",
    "    \n",
    "    return {'loss': -accuracy, 'status': STATUS_OK}\n",
    "\n",
    "# Запуск оптимизации\n",
    "trials = Trials()\n",
    "start_time = time.time()\n",
    "\n",
    "best = fmin(\n",
    "    fn=objective,\n",
    "    space=space,\n",
    "    algo=tpe.suggest,\n",
    "    max_evals=50,\n",
    "    trials=trials,\n",
    "    rstate=np.random.default_rng(42)\n",
    ")\n",
    "\n",
    "hyperopt_time = time.time() - start_time\n",
    "\n",
    "# Преобразование результатов\n",
    "best_params_hyperopt = {\n",
    "    'n_estimators': int(best['n_estimators']),\n",
    "    'max_depth': int(best['max_depth']),\n",
    "    'max_features': int(best['max_features']),\n",
    "    'min_samples_split': int(best['min_samples_split']),\n",
    "    'min_samples_leaf': int(best['min_samples_leaf']),\n",
    "    'bootstrap': best['bootstrap']\n",
    "}\n",
    "\n",
    "# Оценка лучшей модели\n",
    "model_hyperopt = RandomForestClassifier(**best_params_hyperopt, random_state=42)\n",
    "model_hyperopt.fit(X_train, y_train)\n",
    "y_pred_hyperopt = model_hyperopt.predict(X_test)\n",
    "best_score_hyperopt = accuracy_score(y_test, y_pred_hyperopt)\n",
    "\n",
    "print(\"\\nHyperopt (TPE) результаты:\")\n",
    "print(f\"Лучшие параметры: {best_params_hyperopt}\")\n",
    "print(f\"Лучшая точность: {best_score_hyperopt:.4f}\")\n",
    "print(f\"Время выполнения: {hyperopt_time:.2f} сек\")"
   ]
  },
  {
   "cell_type": "markdown",
   "id": "68998f18-791e-4802-bb9a-8555e57f6954",
   "metadata": {},
   "source": [
    "3. Сравнительный анализ результатов"
   ]
  },
  {
   "cell_type": "code",
   "execution_count": 44,
   "id": "d906fc12-57df-42b0-a694-5bbd2176ea03",
   "metadata": {
    "tags": []
   },
   "outputs": [
    {
     "name": "stdout",
     "output_type": "stream",
     "text": [
      "\n",
      "Сравнительная таблица:\n",
      "            Метод  Точность  Время (сек)  n_estimators  max_depth  \\\n",
      "0   Random Search  0.782035    14.099147           393          8   \n",
      "1  Hyperopt (TPE)  0.766234    20.349620           300          4   \n",
      "\n",
      "   max_features  min_samples_split  min_samples_leaf bootstrap  \n",
      "0             5                  9                 2      True  \n",
      "1             2                  6                 3         1  \n"
     ]
    }
   ],
   "source": [
    "# Создание таблицы сравнения\n",
    "comparison = pd.DataFrame({\n",
    "    'Метод': ['Random Search', 'Hyperopt (TPE)'],\n",
    "    'Точность': [best_score_random, best_score_hyperopt],\n",
    "    'Время (сек)': [random_search_time, hyperopt_time],\n",
    "    'n_estimators': [best_params_random['n_estimators'], best_params_hyperopt['n_estimators']],\n",
    "    'max_depth': [best_params_random['max_depth'], best_params_hyperopt['max_depth']],\n",
    "    'max_features': [best_params_random['max_features'], best_params_hyperopt['max_features']],\n",
    "    'min_samples_split': [best_params_random['min_samples_split'], best_params_hyperopt['min_samples_split']],\n",
    "    'min_samples_leaf': [best_params_random['min_samples_leaf'], best_params_hyperopt['min_samples_leaf']],\n",
    "    'bootstrap': [best_params_random['bootstrap'], best_params_hyperopt['bootstrap']]\n",
    "})\n",
    "\n",
    "print(\"\\nСравнительная таблица:\")\n",
    "print(comparison)"
   ]
  },
  {
   "cell_type": "code",
   "execution_count": 45,
   "id": "6f2548f5-51ad-4774-8aae-416f88d7c33d",
   "metadata": {
    "tags": []
   },
   "outputs": [
    {
     "data": {
      "image/png": "[encoded data removed]",
      "text/plain": [
       "<Figure size 1500x500 with 2 Axes>"
      ]
     },
     "metadata": {},
     "output_type": "display_data"
    }
   ],
   "source": [
    "# Визуализация сравнения\n",
    "fig, (ax1, ax2) = plt.subplots(1, 2, figsize=(15, 5))\n",
    "\n",
    "# График точности\n",
    "ax1.bar(['Random Search', 'Hyperopt (TPE)'], [best_score_random, best_score_hyperopt])\n",
    "ax1.set_title('Сравнение точности методов оптимизации')\n",
    "ax1.set_ylabel('Точность')\n",
    "ax1.set_ylim(min(best_score_random, best_score_hyperopt) - 0.05, \n",
    "             max(best_score_random, best_score_hyperopt) + 0.05)\n",
    "ax1.grid(axis='y')\n",
    "\n",
    "# График времени выполнения\n",
    "ax2.bar(['Random Search', 'Hyperopt (TPE)'], [random_search_time, hyperopt_time], color='orange')\n",
    "ax2.set_title('Сравнение времени выполнения методов оптимизации')\n",
    "ax2.set_ylabel('Время (сек)')\n",
    "ax2.grid(axis='y')\n",
    "\n",
    "plt.tight_layout()\n",
    "plt.show()"
   ]
  },
  {
   "cell_type": "code",
   "execution_count": null,
   "id": "62e7b439-73ca-46b5-90c1-05eac6c095f7",
   "metadata": {},
   "outputs": [],
   "source": []
  }
 ],
 "metadata": {
  "kernelspec": {
   "display_name": "Python 3 (ipykernel)",
   "language": "python",
   "name": "python3"
  },
  "language_info": {
   "codemirror_mode": {
    "name": "ipython",
    "version": 3
   },
   "file_extension": ".py",
   "mimetype": "text/x-python",
   "name": "python",
   "nbconvert_exporter": "python",
   "pygments_lexer": "ipython3",
   "version": "3.11.5"
  }
 },
 "nbformat": 4,
 "nbformat_minor": 5
}
